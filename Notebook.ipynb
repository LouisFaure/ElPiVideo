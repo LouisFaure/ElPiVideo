{
 "cells": [
  {
   "cell_type": "code",
   "execution_count": 1,
   "metadata": {},
   "outputs": [
    {
     "name": "stderr",
     "output_type": "stream",
     "text": [
      "Loading required package: Matrix\n"
     ]
    }
   ],
   "source": [
    "library(jpeg)\n",
    "library(ElPiGraph.R)\n",
    "library(stringr)\n",
    "library(rgl)\n",
    "library(irlba)"
   ]
  },
  {
   "cell_type": "code",
   "execution_count": 2,
   "metadata": {},
   "outputs": [],
   "source": [
    "unzip(\"Metro.zip\",exdir=\"frames\")\n",
    "system(\"ffmpeg -y -f image2 -i frames/%*.jpg -vf setpts=2*PTS initial.mp4\")\n",
    "system(\"for f in frames/*.jpg; do mv -n $f frames/$RANDOM.jpg; done;\")\n",
    "system(\"ffmpeg -y -f image2 -i frames/%*.jpg -vf setpts=2*PTS rand.mp4\")"
   ]
  },
  {
   "cell_type": "code",
   "execution_count": 3,
   "metadata": {},
   "outputs": [
    {
     "name": "stdout",
     "output_type": "stream",
     "text": [
      "[1] \"Perfoming PCA\"\n"
     ]
    }
   ],
   "source": [
    "images = list.files(path = \"frames\",pattern=\".jpg\")\n",
    "\n",
    "heigth = 640\n",
    "width = 360\n",
    "expr = matrix(0,ncol = heigth*width,nrow=length(images))\n",
    "for (i in 1:length(images)){\n",
    "  data <- as.vector(readJPEG(paste0(\"frames/\",images[i])))\n",
    "  expr[i,] = data\n",
    "}\n",
    "\n",
    "print(\"Perfoming PCA\")\n",
    "pca = prcomp_irlba(expr) \n",
    "X = pca$x"
   ]
  },
  {
   "cell_type": "code",
   "execution_count": 4,
   "metadata": {},
   "outputs": [],
   "source": [
    "# Plot Points with rgl\n",
    "plot3d(x=X[,1],y=X[,2],z=X[,3],surface=FALSE,xlab = \"PC1\", ylab = \"PC2\",zlab = \"PC3\",col=\"blue\",size=7)\n",
    "Sys.sleep(1)\n",
    "# Position rgl plot\n",
    "par3d(\"windowRect\"= c(0,0,600,600))\n",
    "rgl.viewpoint(235,35,10)\n",
    "Sys.sleep(1)\n",
    "# Rotate rgl plot\n",
    "p=1\n",
    "for (i in rev(seq(30,230,5)+5)){\n",
    "  rgl.viewpoint(i,35,10)\n",
    "  filename = paste0(\"rotation\",str_pad(p, 2, pad = \"0\"))\n",
    "  rgl.postscript(paste0(filename,\".eps\"),\"eps\")\n",
    "  system(paste0(\"convert -density 100 \",filename,\".eps -flatten \",filename,\".png\"))\n",
    "  system(paste0(\"rm \",filename,\".eps\"))\n",
    "  p=p+1\n",
    "}"
   ]
  },
  {
   "cell_type": "code",
   "execution_count": 5,
   "metadata": {},
   "outputs": [
    {
     "name": "stdout",
     "output_type": "stream",
     "text": [
      "[1] \"Making rotation GIF\"\n"
     ]
    }
   ],
   "source": [
    "print(\"Making rotation GIF\")\n",
    "system(\"convert -delay 20 -loop 1 rotation*.png rotation.gif\")\n",
    "system(\"rm rotation*.png\")\n",
    "system(\"mv rotation.gif computedgifs/\")"
   ]
  },
  {
   "cell_type": "markdown",
   "metadata": {},
   "source": [
    "![PCA](computedgifs/rotation.gif \"PCA\")"
   ]
  },
  {
   "cell_type": "code",
   "execution_count": null,
   "metadata": {},
   "outputs": [],
   "source": [
    "# Elpigraph with default params\n",
    "EPCa = vector(\"list\",50-2)\n",
    "for (i in 3:50){\n",
    "  EPCa[[i-2]]=computeElasticPrincipalCurve(X=as.matrix(X),\n",
    "                                           NumNodes = i,\n",
    "                                           Do_PCA = FALSE,\n",
    "                                           drawAccuracyComplexity = F,\n",
    "                                           drawEnergy = F,drawPCAView=F)\n",
    "  \n",
    "}\n",
    "\n",
    "EPCa[[i-2]][[1]] = ExtendLeaves(X = as.matrix(X), TargetPG = EPCa[[i-2]][[1]], \n",
    "                                Mode = \"QuantCentroid\", ControlPar = .4,PlotSelected = F)"
   ]
  },
  {
   "cell_type": "code",
   "execution_count": null,
   "metadata": {},
   "outputs": [],
   "source": [
    "# Elpigraph with Trimming Radius\n",
    "EPCb = vector(\"list\",50-2)\n",
    "for (i in 3:50){\n",
    "  EPCb[[i-2]]=computeElasticPrincipalCurve(X=as.matrix(X),\n",
    "                                           NumNodes = i,\n",
    "                                           Do_PCA = FALSE,\n",
    "                                           drawAccuracyComplexity = F,\n",
    "                                           drawEnergy = F,drawPCAView=F,\n",
    "                                           TrimmingRadius = 25)\n",
    "  \n",
    "}\n",
    "\n",
    "EPCb[[i-2]][[1]] = ExtendLeaves(X = as.matrix(X), TargetPG = EPCb[[i-2]][[1]], \n",
    "                                Mode = \"QuantCentroid\", ControlPar = .4,PlotSelected = F)"
   ]
  },
  {
   "cell_type": "code",
   "execution_count": null,
   "metadata": {},
   "outputs": [],
   "source": [
    "# Add elpigraph default results\n",
    "for (i in 1:length(EPCa)){\n",
    "  segments3d(x=as.vector(t(cbind(EPCa[[i]][[1]]$NodePositions[EPCa[[i]][[1]]$Edges$Edges[,1],1],\n",
    "                                 EPCa[[i]][[1]]$NodePositions[EPCa[[i]][[1]]$Edges$Edges[,2],1]))),\n",
    "             y=as.vector(t(cbind(EPCa[[i]][[1]]$NodePositions[EPCa[[i]][[1]]$Edges$Edges[,1],2],\n",
    "                                 EPCa[[i]][[1]]$NodePositions[EPCa[[i]][[1]]$Edges$Edges[,2],2]))),\n",
    "             z=as.vector(t(cbind(EPCa[[i]][[1]]$NodePositions[EPCa[[i]][[1]]$Edges$Edges[,1],3],\n",
    "                                 EPCa[[i]][[1]]$NodePositions[EPCa[[i]][[1]]$Edges$Edges[,2],3]))), \n",
    "             color = \"red\", add = TRUE,lwd=5)\n",
    "  plot3d(x=EPCa[[i]][[1]]$NodePositions[,1],\n",
    "         y=EPCa[[i]][[1]]$NodePositions[,2],\n",
    "         z=EPCa[[i]][[1]]$NodePositions[,3],\n",
    "         surface=FALSE,xlab = \"PC1\", ylab = \"PC2\",zlab = \"PC3\",col=\"black\",size = 10,add=TRUE)\n",
    "  \n",
    "  plot3d(x=EPCa[[i]][[1]]$NodePositions[i+2,1],\n",
    "         y=EPCa[[i]][[1]]$NodePositions[i+2,2],\n",
    "         z=EPCa[[i]][[1]]$NodePositions[i+2,3],\n",
    "         surface=FALSE,xlab = \"PC1\", ylab = \"PC2\",zlab = \"PC3\",col=\"black\",size = 20,add=TRUE)\n",
    "  \n",
    "  filename = paste0(\"computedgifs/elpi_default\",str_pad(i, 2, pad = \"0\"))\n",
    "  rgl.postscript(paste0(filename,\".eps\"),\"eps\") \n",
    "  system(paste0(\"convert -density 100 \",filename,\".eps -flatten \",filename,\".png\"))\n",
    "  system(paste0(\"rm \",filename,\".eps\"))\n",
    "  \n",
    "  if (i != length(EPCa)){\n",
    "    rgl.pop( type = \"shapes\" )\n",
    "    rgl.pop( type = \"shapes\" )\n",
    "  }\n",
    "  rgl.pop( type = \"shapes\" )\n",
    "}\n",
    "\n",
    "filename = paste0(\"computedgifs/elpi_default\",str_pad(i+1, 2, pad = \"0\"))\n",
    "rgl.postscript(paste0(filename,\".eps\"),\"eps\") \n",
    "system(paste0(\"convert -density 100 \",filename,\".eps -flatten \",filename,\".png\"))\n",
    "system(paste0(\"rm \",filename,\".eps\"))\n",
    "\n",
    "\n",
    "print(\"Making elpi_default GIF\")\n",
    "system(\"convert -delay 20 -loop 1 computedgifs/elpi_default*.png computedgifs/elpi_default.gif\")\n",
    "system(\"rm elpi_default*.png\")\n",
    "# Remove previous elpigraph results\n",
    "rgl.pop( type = \"shapes\" )\n",
    "rgl.pop( type = \"shapes\" )"
   ]
  },
  {
   "cell_type": "markdown",
   "metadata": {},
   "source": [
    "![Elpi1](computedgifs/elpi_default.gif \"Elpi1\")"
   ]
  },
  {
   "cell_type": "code",
   "execution_count": null,
   "metadata": {},
   "outputs": [],
   "source": [
    "# Add elpigraph+trimming radius results\n",
    "for (i in 1:length(EPCb)){\n",
    "  segments3d(x=as.vector(t(cbind(EPCb[[i]][[1]]$NodePositions[EPCb[[i]][[1]]$Edges$Edges[,1],1],\n",
    "                                 EPCb[[i]][[1]]$NodePositions[EPCb[[i]][[1]]$Edges$Edges[,2],1]))),\n",
    "             y=as.vector(t(cbind(EPCb[[i]][[1]]$NodePositions[EPCb[[i]][[1]]$Edges$Edges[,1],2],\n",
    "                                 EPCb[[i]][[1]]$NodePositions[EPCb[[i]][[1]]$Edges$Edges[,2],2]))),\n",
    "             z=as.vector(t(cbind(EPCb[[i]][[1]]$NodePositions[EPCb[[i]][[1]]$Edges$Edges[,1],3],\n",
    "                                 EPCb[[i]][[1]]$NodePositions[EPCb[[i]][[1]]$Edges$Edges[,2],3]))), \n",
    "             color = \"red\", add = TRUE,lwd=5)\n",
    "  \n",
    "  plot3d(x=EPCb[[i]][[1]]$NodePositions[,1],\n",
    "         y=EPCb[[i]][[1]]$NodePositions[,2],\n",
    "         z=EPCb[[i]][[1]]$NodePositions[,3],\n",
    "         surface=FALSE,xlab = \"PC1\", ylab = \"PC2\",zlab = \"PC3\",col=\"black\",size = 10,add=TRUE)\n",
    "  \n",
    "  plot3d(x=EPCb[[i]][[1]]$NodePositions[i+2,1],\n",
    "         y=EPCb[[i]][[1]]$NodePositions[i+2,2],\n",
    "         z=EPCb[[i]][[1]]$NodePositions[i+2,3],\n",
    "         surface=FALSE,xlab = \"PC1\", ylab = \"PC2\",zlab = \"PC3\",col=\"black\",size = 20,add=TRUE)\n",
    "  \n",
    "  filename = paste0(\"computedgifs/elpi_trim\",str_pad(i, 2, pad = \"0\"))\n",
    "  rgl.postscript(paste0(filename,\".eps\"),\"eps\") \n",
    "  system(paste0(\"convert -density 100 \",filename,\".eps -flatten \",filename,\".png\"))\n",
    "  system(paste0(\"rm \",filename,\".eps\"))\n",
    "  \n",
    "  if (i != length(EPCa)){\n",
    "    rgl.pop( type = \"shapes\" )\n",
    "    rgl.pop( type = \"shapes\" )\n",
    "  }\n",
    "  rgl.pop( type = \"shapes\" )\n",
    "}\n",
    "filename = paste0(\"computedgifs/elpi_trim\",str_pad(i+1, 2, pad = \"0\"))\n",
    "rgl.postscript(paste0(filename,\".eps\"),\"eps\") \n",
    "system(paste0(\"convert -density 100 \",filename,\".eps -flatten \",filename,\".png\"))\n",
    "system(paste0(\"rm \",filename,\".eps\"))\n",
    "\n",
    "print(\"Making elpi_trim GIF\")\n",
    "system(\"convert -delay 20 -loop 1 computedgifs/elpi_trim*.png computedgifs/elpi_trim.gif\")\n",
    "system(\"rm elpi_trim*.png\")"
   ]
  },
  {
   "cell_type": "markdown",
   "metadata": {},
   "source": [
    "![Elpi2](computedgifs/elpi_trim.gif \"Elpi1\")"
   ]
  }
 ],
 "metadata": {
  "kernelspec": {
   "display_name": "R",
   "language": "R",
   "name": "ir"
  },
  "language_info": {
   "codemirror_mode": "r",
   "file_extension": ".r",
   "mimetype": "text/x-r-source",
   "name": "R",
   "pygments_lexer": "r",
   "version": "3.5.1"
  }
 },
 "nbformat": 4,
 "nbformat_minor": 2
}
